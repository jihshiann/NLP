{
  "nbformat": 4,
  "nbformat_minor": 0,
  "metadata": {
    "colab": {
      "provenance": []
    },
    "kernelspec": {
      "name": "python3",
      "display_name": "Python 3"
    },
    "language_info": {
      "name": "python"
    }
  },
  "cells": [
    {
      "cell_type": "markdown",
      "source": [
        "# Please select a dataset from Kaggle and describe what type of system you want to build (25%)"
      ],
      "metadata": {
        "id": "-MMS1qsPcHgD"
      }
    },
    {
      "cell_type": "code",
      "source": [],
      "metadata": {
        "id": "o5laTvTdeb0R"
      },
      "execution_count": null,
      "outputs": []
    },
    {
      "cell_type": "markdown",
      "source": [
        "# How do you build you markov model (50%)"
      ],
      "metadata": {
        "id": "JWJpZxVMedyk"
      }
    },
    {
      "cell_type": "code",
      "source": [],
      "metadata": {
        "id": "g5PrS5R9eosB"
      },
      "execution_count": null,
      "outputs": []
    },
    {
      "cell_type": "markdown",
      "source": [
        "# Demonstration: (25%)\n",
        "i.e. accuracy for supervised learning, demo for unsupervised learning\n",
        "\n"
      ],
      "metadata": {
        "id": "XW6wFwZee00V"
      }
    },
    {
      "cell_type": "code",
      "source": [],
      "metadata": {
        "id": "VjR3sp6JfBr4"
      },
      "execution_count": null,
      "outputs": []
    }
  ]
}