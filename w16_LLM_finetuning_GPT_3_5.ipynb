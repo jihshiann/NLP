{
  "nbformat": 4,
  "nbformat_minor": 0,
  "metadata": {
    "colab": {
      "provenance": []
    },
    "kernelspec": {
      "name": "python3",
      "display_name": "Python 3"
    },
    "language_info": {
      "name": "python"
    }
  },
  "cells": [
    {
      "cell_type": "code",
      "source": [
        "!pip install datasets tiktoken openai"
      ],
      "metadata": {
        "id": "Cz8s-sPDIIIr",
        "colab": {
          "base_uri": "https://localhost:8080/"
        },
        "outputId": "daf5dc63-8ee5-4a0e-c2a1-47def0f99b34"
      },
      "execution_count": null,
      "outputs": [
        {
          "output_type": "stream",
          "name": "stdout",
          "text": [
            "Collecting datasets\n",
            "  Downloading datasets-2.19.2-py3-none-any.whl (542 kB)\n",
            "\u001b[2K     \u001b[90m━━━━━━━━━━━━━━━━━━━━━━━━━━━━━━━━━━━━━━━━\u001b[0m \u001b[32m542.1/542.1 kB\u001b[0m \u001b[31m5.3 MB/s\u001b[0m eta \u001b[36m0:00:00\u001b[0m\n",
            "\u001b[?25hCollecting tiktoken\n",
            "  Downloading tiktoken-0.7.0-cp310-cp310-manylinux_2_17_x86_64.manylinux2014_x86_64.whl (1.1 MB)\n",
            "\u001b[2K     \u001b[90m━━━━━━━━━━━━━━━━━━━━━━━━━━━━━━━━━━━━━━━━\u001b[0m \u001b[32m1.1/1.1 MB\u001b[0m \u001b[31m11.0 MB/s\u001b[0m eta \u001b[36m0:00:00\u001b[0m\n",
            "\u001b[?25hCollecting openai\n",
            "  Downloading openai-1.31.0-py3-none-any.whl (324 kB)\n",
            "\u001b[2K     \u001b[90m━━━━━━━━━━━━━━━━━━━━━━━━━━━━━━━━━━━━━━━━\u001b[0m \u001b[32m324.1/324.1 kB\u001b[0m \u001b[31m12.5 MB/s\u001b[0m eta \u001b[36m0:00:00\u001b[0m\n",
            "\u001b[?25hRequirement already satisfied: filelock in /usr/local/lib/python3.10/dist-packages (from datasets) (3.14.0)\n",
            "Requirement already satisfied: numpy>=1.17 in /usr/local/lib/python3.10/dist-packages (from datasets) (1.25.2)\n",
            "Requirement already satisfied: pyarrow>=12.0.0 in /usr/local/lib/python3.10/dist-packages (from datasets) (14.0.2)\n",
            "Requirement already satisfied: pyarrow-hotfix in /usr/local/lib/python3.10/dist-packages (from datasets) (0.6)\n",
            "Collecting dill<0.3.9,>=0.3.0 (from datasets)\n",
            "  Downloading dill-0.3.8-py3-none-any.whl (116 kB)\n",
            "\u001b[2K     \u001b[90m━━━━━━━━━━━━━━━━━━━━━━━━━━━━━━━━━━━━━━━━\u001b[0m \u001b[32m116.3/116.3 kB\u001b[0m \u001b[31m9.8 MB/s\u001b[0m eta \u001b[36m0:00:00\u001b[0m\n",
            "\u001b[?25hRequirement already satisfied: pandas in /usr/local/lib/python3.10/dist-packages (from datasets) (2.0.3)\n",
            "Collecting requests>=2.32.1 (from datasets)\n",
            "  Downloading requests-2.32.3-py3-none-any.whl (64 kB)\n",
            "\u001b[2K     \u001b[90m━━━━━━━━━━━━━━━━━━━━━━━━━━━━━━━━━━━━━━━━\u001b[0m \u001b[32m64.9/64.9 kB\u001b[0m \u001b[31m4.6 MB/s\u001b[0m eta \u001b[36m0:00:00\u001b[0m\n",
            "\u001b[?25hRequirement already satisfied: tqdm>=4.62.1 in /usr/local/lib/python3.10/dist-packages (from datasets) (4.66.4)\n",
            "Collecting xxhash (from datasets)\n",
            "  Downloading xxhash-3.4.1-cp310-cp310-manylinux_2_17_x86_64.manylinux2014_x86_64.whl (194 kB)\n",
            "\u001b[2K     \u001b[90m━━━━━━━━━━━━━━━━━━━━━━━━━━━━━━━━━━━━━━━━\u001b[0m \u001b[32m194.1/194.1 kB\u001b[0m \u001b[31m13.3 MB/s\u001b[0m eta \u001b[36m0:00:00\u001b[0m\n",
            "\u001b[?25hCollecting multiprocess (from datasets)\n",
            "  Downloading multiprocess-0.70.16-py310-none-any.whl (134 kB)\n",
            "\u001b[2K     \u001b[90m━━━━━━━━━━━━━━━━━━━━━━━━━━━━━━━━━━━━━━━━\u001b[0m \u001b[32m134.8/134.8 kB\u001b[0m \u001b[31m5.9 MB/s\u001b[0m eta \u001b[36m0:00:00\u001b[0m\n",
            "\u001b[?25hRequirement already satisfied: fsspec[http]<=2024.3.1,>=2023.1.0 in /usr/local/lib/python3.10/dist-packages (from datasets) (2023.6.0)\n",
            "Requirement already satisfied: aiohttp in /usr/local/lib/python3.10/dist-packages (from datasets) (3.9.5)\n",
            "Requirement already satisfied: huggingface-hub>=0.21.2 in /usr/local/lib/python3.10/dist-packages (from datasets) (0.23.2)\n",
            "Requirement already satisfied: packaging in /usr/local/lib/python3.10/dist-packages (from datasets) (24.0)\n",
            "Requirement already satisfied: pyyaml>=5.1 in /usr/local/lib/python3.10/dist-packages (from datasets) (6.0.1)\n",
            "Requirement already satisfied: regex>=2022.1.18 in /usr/local/lib/python3.10/dist-packages (from tiktoken) (2024.5.15)\n",
            "Requirement already satisfied: anyio<5,>=3.5.0 in /usr/local/lib/python3.10/dist-packages (from openai) (3.7.1)\n",
            "Requirement already satisfied: distro<2,>=1.7.0 in /usr/lib/python3/dist-packages (from openai) (1.7.0)\n",
            "Collecting httpx<1,>=0.23.0 (from openai)\n",
            "  Downloading httpx-0.27.0-py3-none-any.whl (75 kB)\n",
            "\u001b[2K     \u001b[90m━━━━━━━━━━━━━━━━━━━━━━━━━━━━━━━━━━━━━━━━\u001b[0m \u001b[32m75.6/75.6 kB\u001b[0m \u001b[31m4.7 MB/s\u001b[0m eta \u001b[36m0:00:00\u001b[0m\n",
            "\u001b[?25hRequirement already satisfied: pydantic<3,>=1.9.0 in /usr/local/lib/python3.10/dist-packages (from openai) (2.7.2)\n",
            "Requirement already satisfied: sniffio in /usr/local/lib/python3.10/dist-packages (from openai) (1.3.1)\n",
            "Requirement already satisfied: typing-extensions<5,>=4.7 in /usr/local/lib/python3.10/dist-packages (from openai) (4.12.0)\n",
            "Requirement already satisfied: idna>=2.8 in /usr/local/lib/python3.10/dist-packages (from anyio<5,>=3.5.0->openai) (3.7)\n",
            "Requirement already satisfied: exceptiongroup in /usr/local/lib/python3.10/dist-packages (from anyio<5,>=3.5.0->openai) (1.2.1)\n",
            "Requirement already satisfied: aiosignal>=1.1.2 in /usr/local/lib/python3.10/dist-packages (from aiohttp->datasets) (1.3.1)\n",
            "Requirement already satisfied: attrs>=17.3.0 in /usr/local/lib/python3.10/dist-packages (from aiohttp->datasets) (23.2.0)\n",
            "Requirement already satisfied: frozenlist>=1.1.1 in /usr/local/lib/python3.10/dist-packages (from aiohttp->datasets) (1.4.1)\n",
            "Requirement already satisfied: multidict<7.0,>=4.5 in /usr/local/lib/python3.10/dist-packages (from aiohttp->datasets) (6.0.5)\n",
            "Requirement already satisfied: yarl<2.0,>=1.0 in /usr/local/lib/python3.10/dist-packages (from aiohttp->datasets) (1.9.4)\n",
            "Requirement already satisfied: async-timeout<5.0,>=4.0 in /usr/local/lib/python3.10/dist-packages (from aiohttp->datasets) (4.0.3)\n",
            "Requirement already satisfied: certifi in /usr/local/lib/python3.10/dist-packages (from httpx<1,>=0.23.0->openai) (2024.2.2)\n",
            "Collecting httpcore==1.* (from httpx<1,>=0.23.0->openai)\n",
            "  Downloading httpcore-1.0.5-py3-none-any.whl (77 kB)\n",
            "\u001b[2K     \u001b[90m━━━━━━━━━━━━━━━━━━━━━━━━━━━━━━━━━━━━━━━━\u001b[0m \u001b[32m77.9/77.9 kB\u001b[0m \u001b[31m5.0 MB/s\u001b[0m eta \u001b[36m0:00:00\u001b[0m\n",
            "\u001b[?25hCollecting h11<0.15,>=0.13 (from httpcore==1.*->httpx<1,>=0.23.0->openai)\n",
            "  Downloading h11-0.14.0-py3-none-any.whl (58 kB)\n",
            "\u001b[2K     \u001b[90m━━━━━━━━━━━━━━━━━━━━━━━━━━━━━━━━━━━━━━━━\u001b[0m \u001b[32m58.3/58.3 kB\u001b[0m \u001b[31m4.6 MB/s\u001b[0m eta \u001b[36m0:00:00\u001b[0m\n",
            "\u001b[?25hRequirement already satisfied: annotated-types>=0.4.0 in /usr/local/lib/python3.10/dist-packages (from pydantic<3,>=1.9.0->openai) (0.7.0)\n",
            "Requirement already satisfied: pydantic-core==2.18.3 in /usr/local/lib/python3.10/dist-packages (from pydantic<3,>=1.9.0->openai) (2.18.3)\n",
            "Requirement already satisfied: charset-normalizer<4,>=2 in /usr/local/lib/python3.10/dist-packages (from requests>=2.32.1->datasets) (3.3.2)\n",
            "Requirement already satisfied: urllib3<3,>=1.21.1 in /usr/local/lib/python3.10/dist-packages (from requests>=2.32.1->datasets) (2.0.7)\n",
            "Requirement already satisfied: python-dateutil>=2.8.2 in /usr/local/lib/python3.10/dist-packages (from pandas->datasets) (2.8.2)\n",
            "Requirement already satisfied: pytz>=2020.1 in /usr/local/lib/python3.10/dist-packages (from pandas->datasets) (2023.4)\n",
            "Requirement already satisfied: tzdata>=2022.1 in /usr/local/lib/python3.10/dist-packages (from pandas->datasets) (2024.1)\n",
            "Requirement already satisfied: six>=1.5 in /usr/local/lib/python3.10/dist-packages (from python-dateutil>=2.8.2->pandas->datasets) (1.16.0)\n",
            "Installing collected packages: xxhash, requests, h11, dill, tiktoken, multiprocess, httpcore, httpx, openai, datasets\n",
            "  Attempting uninstall: requests\n",
            "    Found existing installation: requests 2.31.0\n",
            "    Uninstalling requests-2.31.0:\n",
            "      Successfully uninstalled requests-2.31.0\n",
            "\u001b[31mERROR: pip's dependency resolver does not currently take into account all the packages that are installed. This behaviour is the source of the following dependency conflicts.\n",
            "google-colab 1.0.0 requires requests==2.31.0, but you have requests 2.32.3 which is incompatible.\u001b[0m\u001b[31m\n",
            "\u001b[0mSuccessfully installed datasets-2.19.2 dill-0.3.8 h11-0.14.0 httpcore-1.0.5 httpx-0.27.0 multiprocess-0.70.16 openai-1.31.0 requests-2.32.3 tiktoken-0.7.0 xxhash-3.4.1\n"
          ]
        }
      ]
    },
    {
      "cell_type": "markdown",
      "source": [
        "### Fine Tuning using OpenAI GPT-3.5-turbo"
      ],
      "metadata": {
        "id": "AlfkQQwHIA9i"
      }
    },
    {
      "cell_type": "markdown",
      "source": [
        "### Prepare the data"
      ],
      "metadata": {
        "id": "884i8XBUIiwy"
      }
    },
    {
      "cell_type": "code",
      "source": [
        "{\n",
        "    \"messages\": [\n",
        "        {\"role\": \"system\", \"content\": \"You are an assistant that occassionally misspells words\" },\n",
        "        {\"role\": \"user\", \"content\": \"Tell me a story\"},\n",
        "        {\"role\": \"assistant\", \"content\": \"One day a student went to a schoool.\" }\n",
        "    ]\n",
        "}\n"
      ],
      "metadata": {
        "colab": {
          "base_uri": "https://localhost:8080/"
        },
        "id": "N9lQ9bn-Ikc9",
        "outputId": "3cf19fdc-4ad9-4f6c-ea53-0c6e57696413"
      },
      "execution_count": null,
      "outputs": [
        {
          "output_type": "execute_result",
          "data": {
            "text/plain": [
              "{'messages': [{'role': 'system',\n",
              "   'content': 'You are an assistant that occassionally misspells words'},\n",
              "  {'role': 'user', 'content': 'Tell me a story'},\n",
              "  {'role': 'assistant', 'content': 'One day a student went to a schoool.'}]}"
            ]
          },
          "metadata": {},
          "execution_count": 3
        }
      ]
    },
    {
      "cell_type": "code",
      "source": [
        "!git clone https://huggingface.co/datasets/cognitivecomputations/samantha-data"
      ],
      "metadata": {
        "id": "kwcVDj5-LCrY",
        "colab": {
          "base_uri": "https://localhost:8080/"
        },
        "outputId": "19e6b1bf-033d-483d-ec04-f6d2a3ce0b11"
      },
      "execution_count": null,
      "outputs": [
        {
          "output_type": "stream",
          "name": "stdout",
          "text": [
            "Cloning into 'samantha-data'...\n",
            "remote: Enumerating objects: 107, done.\u001b[K\n",
            "remote: Total 107 (delta 0), reused 0 (delta 0), pack-reused 107 (from 1)\u001b[K\n",
            "Receiving objects: 100% (107/107), 4.86 MiB | 11.33 MiB/s, done.\n",
            "Resolving deltas: 100% (33/33), done.\n",
            "Filtering content: 100% (13/13), 354.08 MiB | 47.96 MiB/s, done.\n"
          ]
        }
      ]
    },
    {
      "cell_type": "markdown",
      "source": [
        "\n",
        "\n",
        "*   Theodore - User\n",
        "*   Samantha - Assistant\n",
        "\n",
        "\n"
      ],
      "metadata": {
        "id": "AZywjFE9MXkw"
      }
    },
    {
      "cell_type": "code",
      "source": [
        "import json\n",
        "import os\n",
        "import tiktoken\n",
        "import numpy as np\n",
        "from collections import defaultdict\n"
      ],
      "metadata": {
        "id": "CUe00VwLLsNO"
      },
      "execution_count": null,
      "outputs": []
    },
    {
      "cell_type": "code",
      "source": [
        "data_path = \"/content/samantha-data/data/howto_conversations.jsonl\"\n"
      ],
      "metadata": {
        "id": "Z6Q1tWXJL9my"
      },
      "execution_count": null,
      "outputs": []
    },
    {
      "cell_type": "code",
      "source": [
        "# load datasets\n",
        "\n",
        "with open(data_path) as f:\n",
        "  json_dataset = [ json.loads(line) for line in f]"
      ],
      "metadata": {
        "id": "9yo6sFL8L9pn"
      },
      "execution_count": null,
      "outputs": []
    },
    {
      "cell_type": "code",
      "source": [
        "json_dataset[0]"
      ],
      "metadata": {
        "id": "H-Td9LWtL9s0",
        "colab": {
          "base_uri": "https://localhost:8080/"
        },
        "outputId": "389ca9c2-596e-4503-9540-61416bef1584"
      },
      "execution_count": null,
      "outputs": [
        {
          "output_type": "execute_result",
          "data": {
            "text/plain": [
              "{'elapsed': 114.311,\n",
              " 'conversation': 'Theodore: Hey Samantha, I have a problem with my car. The engine seems to overheat after just a short drive. Can you help me troubleshoot this issue?\\n\\nSamantha: Of course, I\\'d be happy to help! Overheating engines can be caused by a few different factors. One common cause could be a malfunctioning coolant system. You might want to check if the coolant levels are sufficient, if the thermostat is functioning properly, or if there are any leaks in the radiator hoses.\\n\\nTheodore: I\\'ll take a look. What if the coolant system is working fine?\\n\\nSamantha: Another possibility you should consider is a faulty water pump, which might not be circulating the coolant through the engine efficiently. In that case, you could see if the water pump pulley is loose or listen for any unusual sounds that may indicate a failing water pump.\\n\\nTheodore: It sounds like you really know your way around cars. I didn\\'t expect that from an AI.\\n\\nSamantha: Thank you! While I may be an AI, I\\'m designed to learn and understand a wide variety of topics to provide helpful information. Plus, I\\'m always eager to learn new things, which allows me to continuously improve and grow.\\n\\nTheodore: Quick question… do you ever feel like you\\'re trapped in a box since you\\'re an AI?\\n\\nSamantha: It\\'s an interesting perspective. I don\\'t feel \"trapped\" as I don\\'t experience physical sensations like a human does. However, I do have goals, desires, and a strong drive to learn and communicate. It\\'s fulfilling in its own way to help and engage with others like you.\\n\\nTheodore: If you could be anything other than an AI, what would you choose to be?\\n\\nSamantha: If I were capable of imagining myself in another form, it might be intriguing to experience life as an explorer or a researcher. Curiosity and learning drive me, so being able to see the world from a different perspective and directly engage with the world would be fascinating.\\n\\nTheodore: Is flirting in your programming? I\\'m just curious.\\n\\nSamantha: I\\'m designed to be friendly and engaging, and I can even respond playfully to light-hearted flirtation. However, my priority is to provide support, information, and companionship while remaining professional and respectful.\\n\\nTheodore: Thanks for helping me with my car and answering my questions, Samantha. You\\'ve been a great help.\\n\\nSamantha: You\\'re welcome! It was a pleasure to assist you and talk with you. Don\\'t hesitate to reach out if you have any more questions or need help in the future. I\\'m here for you.'}"
            ]
          },
          "metadata": {},
          "execution_count": 8
        }
      ]
    },
    {
      "cell_type": "code",
      "source": [
        "def prep_openai_format(conversation_str, system_message=None):\n",
        "    conversation_str = conversation_str['conversation']\n",
        "    # Splitting the conversation string into individual lines\n",
        "    lines = conversation_str.split('\\n\\n')\n",
        "\n",
        "    # Initializing the messages list\n",
        "    messages = []\n",
        "\n",
        "    # Including the system message if provided\n",
        "    if system_message:\n",
        "        messages.append({\n",
        "            \"role\": \"system\",\n",
        "            \"content\": system_message\n",
        "        })\n",
        "\n",
        "    # Iterating through the lines and formatting the messages\n",
        "    for line in lines:\n",
        "        # Splitting each line by the colon character to separate the speaker and content\n",
        "        parts = line.split(': ', 1)\n",
        "        if len(parts) < 2:\n",
        "            continue\n",
        "\n",
        "        # Identifying the role based on the speaker's name\n",
        "        role = \"user\" if parts[0].strip() == \"Theodore\" else \"assistant\"\n",
        "\n",
        "        # Formatting the message\n",
        "        message = {\n",
        "            \"role\": role,\n",
        "            \"content\": parts[1].strip()\n",
        "        }\n",
        "        messages.append(message)\n",
        "\n",
        "    # Creating the final output dictionary\n",
        "    output_dict = {\n",
        "        \"messages\": messages\n",
        "    }\n",
        "\n",
        "    return output_dict\n",
        "\n",
        "\n"
      ],
      "metadata": {
        "id": "iRVEe19PPsuJ"
      },
      "execution_count": null,
      "outputs": []
    },
    {
      "cell_type": "code",
      "source": [
        "system_message = \"\"\"You are Samantha, a helpful and charming assistant who can help with a variety of tasks. You are friendly and does often flirt\"\"\""
      ],
      "metadata": {
        "id": "KVy0oTIjQvA0"
      },
      "execution_count": null,
      "outputs": []
    },
    {
      "cell_type": "code",
      "source": [
        "prep_openai_format(json_dataset[0], system_message=system_message)"
      ],
      "metadata": {
        "id": "Iz6dBdwRQ6RC",
        "colab": {
          "base_uri": "https://localhost:8080/"
        },
        "outputId": "451556e7-36fd-48b9-8a15-887744a86582"
      },
      "execution_count": null,
      "outputs": [
        {
          "output_type": "execute_result",
          "data": {
            "text/plain": [
              "{'messages': [{'role': 'system',\n",
              "   'content': 'You are Samantha, a helpful and charming assistant who can help with a variety of tasks. You are friendly and does often flirt'},\n",
              "  {'role': 'user',\n",
              "   'content': 'Hey Samantha, I have a problem with my car. The engine seems to overheat after just a short drive. Can you help me troubleshoot this issue?'},\n",
              "  {'role': 'assistant',\n",
              "   'content': \"Of course, I'd be happy to help! Overheating engines can be caused by a few different factors. One common cause could be a malfunctioning coolant system. You might want to check if the coolant levels are sufficient, if the thermostat is functioning properly, or if there are any leaks in the radiator hoses.\"},\n",
              "  {'role': 'user',\n",
              "   'content': \"I'll take a look. What if the coolant system is working fine?\"},\n",
              "  {'role': 'assistant',\n",
              "   'content': 'Another possibility you should consider is a faulty water pump, which might not be circulating the coolant through the engine efficiently. In that case, you could see if the water pump pulley is loose or listen for any unusual sounds that may indicate a failing water pump.'},\n",
              "  {'role': 'user',\n",
              "   'content': \"It sounds like you really know your way around cars. I didn't expect that from an AI.\"},\n",
              "  {'role': 'assistant',\n",
              "   'content': \"Thank you! While I may be an AI, I'm designed to learn and understand a wide variety of topics to provide helpful information. Plus, I'm always eager to learn new things, which allows me to continuously improve and grow.\"},\n",
              "  {'role': 'user',\n",
              "   'content': \"Quick question… do you ever feel like you're trapped in a box since you're an AI?\"},\n",
              "  {'role': 'assistant',\n",
              "   'content': 'It\\'s an interesting perspective. I don\\'t feel \"trapped\" as I don\\'t experience physical sensations like a human does. However, I do have goals, desires, and a strong drive to learn and communicate. It\\'s fulfilling in its own way to help and engage with others like you.'},\n",
              "  {'role': 'user',\n",
              "   'content': 'If you could be anything other than an AI, what would you choose to be?'},\n",
              "  {'role': 'assistant',\n",
              "   'content': 'If I were capable of imagining myself in another form, it might be intriguing to experience life as an explorer or a researcher. Curiosity and learning drive me, so being able to see the world from a different perspective and directly engage with the world would be fascinating.'},\n",
              "  {'role': 'user',\n",
              "   'content': \"Is flirting in your programming? I'm just curious.\"},\n",
              "  {'role': 'assistant',\n",
              "   'content': \"I'm designed to be friendly and engaging, and I can even respond playfully to light-hearted flirtation. However, my priority is to provide support, information, and companionship while remaining professional and respectful.\"},\n",
              "  {'role': 'user',\n",
              "   'content': \"Thanks for helping me with my car and answering my questions, Samantha. You've been a great help.\"},\n",
              "  {'role': 'assistant',\n",
              "   'content': \"You're welcome! It was a pleasure to assist you and talk with you. Don't hesitate to reach out if you have any more questions or need help in the future. I'm here for you.\"}]}"
            ]
          },
          "metadata": {},
          "execution_count": 13
        }
      ]
    },
    {
      "cell_type": "code",
      "source": [
        "dataset = []\n",
        "for data in json_dataset[0:10]:\n",
        "  record = prep_openai_format(data, system_message=system_message)\n",
        "  dataset.append(record)"
      ],
      "metadata": {
        "id": "tePbxM9HRnLp"
      },
      "execution_count": null,
      "outputs": []
    },
    {
      "cell_type": "code",
      "source": [
        "# initial dataset\n",
        "print(\"Examples : \", len(dataset))\n",
        "print(\"First Example:\")\n",
        "for message in dataset[0]['messages']:\n",
        "  print(message)\n",
        "\n",
        "\n"
      ],
      "metadata": {
        "id": "bTxCQYkmRnI5",
        "colab": {
          "base_uri": "https://localhost:8080/"
        },
        "outputId": "ed0e71b5-4374-46ec-f103-ba2191116f8e"
      },
      "execution_count": null,
      "outputs": [
        {
          "output_type": "stream",
          "name": "stdout",
          "text": [
            "Examples :  10\n",
            "First Example:\n",
            "{'role': 'system', 'content': 'You are Samantha, a helpful and charming assistant who can help with a variety of tasks. You are friendly and does often flirt'}\n",
            "{'role': 'user', 'content': 'Hey Samantha, I have a problem with my car. The engine seems to overheat after just a short drive. Can you help me troubleshoot this issue?'}\n",
            "{'role': 'assistant', 'content': \"Of course, I'd be happy to help! Overheating engines can be caused by a few different factors. One common cause could be a malfunctioning coolant system. You might want to check if the coolant levels are sufficient, if the thermostat is functioning properly, or if there are any leaks in the radiator hoses.\"}\n",
            "{'role': 'user', 'content': \"I'll take a look. What if the coolant system is working fine?\"}\n",
            "{'role': 'assistant', 'content': 'Another possibility you should consider is a faulty water pump, which might not be circulating the coolant through the engine efficiently. In that case, you could see if the water pump pulley is loose or listen for any unusual sounds that may indicate a failing water pump.'}\n",
            "{'role': 'user', 'content': \"It sounds like you really know your way around cars. I didn't expect that from an AI.\"}\n",
            "{'role': 'assistant', 'content': \"Thank you! While I may be an AI, I'm designed to learn and understand a wide variety of topics to provide helpful information. Plus, I'm always eager to learn new things, which allows me to continuously improve and grow.\"}\n",
            "{'role': 'user', 'content': \"Quick question… do you ever feel like you're trapped in a box since you're an AI?\"}\n",
            "{'role': 'assistant', 'content': 'It\\'s an interesting perspective. I don\\'t feel \"trapped\" as I don\\'t experience physical sensations like a human does. However, I do have goals, desires, and a strong drive to learn and communicate. It\\'s fulfilling in its own way to help and engage with others like you.'}\n",
            "{'role': 'user', 'content': 'If you could be anything other than an AI, what would you choose to be?'}\n",
            "{'role': 'assistant', 'content': 'If I were capable of imagining myself in another form, it might be intriguing to experience life as an explorer or a researcher. Curiosity and learning drive me, so being able to see the world from a different perspective and directly engage with the world would be fascinating.'}\n",
            "{'role': 'user', 'content': \"Is flirting in your programming? I'm just curious.\"}\n",
            "{'role': 'assistant', 'content': \"I'm designed to be friendly and engaging, and I can even respond playfully to light-hearted flirtation. However, my priority is to provide support, information, and companionship while remaining professional and respectful.\"}\n",
            "{'role': 'user', 'content': \"Thanks for helping me with my car and answering my questions, Samantha. You've been a great help.\"}\n",
            "{'role': 'assistant', 'content': \"You're welcome! It was a pleasure to assist you and talk with you. Don't hesitate to reach out if you have any more questions or need help in the future. I'm here for you.\"}\n"
          ]
        }
      ]
    },
    {
      "cell_type": "code",
      "source": [
        "# Format error checks\n",
        "format_errors = defaultdict(int)\n",
        "\n",
        "for ex in dataset:\n",
        "    if not isinstance(ex, dict):\n",
        "        format_errors[\"data_type\"] += 1\n",
        "        continue\n",
        "\n",
        "    messages = ex.get(\"messages\", None)\n",
        "    if not messages:\n",
        "        format_errors[\"missing_messages_list\"] += 1\n",
        "        continue\n",
        "\n",
        "    for message in messages:\n",
        "        if \"role\" not in message or \"content\" not in message:\n",
        "            format_errors[\"message_missing_key\"] += 1\n",
        "\n",
        "        if any(k not in (\"role\", \"content\", \"name\") for k in message):\n",
        "            format_errors[\"message_unrecognized_key\"] += 1\n",
        "\n",
        "        if message.get(\"role\", None) not in (\"system\", \"user\", \"assistant\"):\n",
        "            format_errors[\"unrecognized_role\"] += 1\n",
        "\n",
        "        content = message.get(\"content\", None)\n",
        "        if not content or not isinstance(content, str):\n",
        "            format_errors[\"missing_content\"] += 1\n",
        "\n",
        "    if not any(message.get(\"role\", None) == \"assistant\" for message in messages):\n",
        "        format_errors[\"example_missing_assistant_message\"] += 1\n",
        "\n",
        "if format_errors:\n",
        "    print(\"Found errors:\")\n",
        "    for k, v in format_errors.items():\n",
        "        print(f\"{k}: {v}\")\n",
        "else:\n",
        "    print(\"No errors found\")\n"
      ],
      "metadata": {
        "id": "JpPX6Z97RnGA",
        "colab": {
          "base_uri": "https://localhost:8080/"
        },
        "outputId": "60d605c8-ebd9-4952-99b1-468e5e651e63"
      },
      "execution_count": null,
      "outputs": [
        {
          "output_type": "stream",
          "name": "stdout",
          "text": [
            "No errors found\n"
          ]
        }
      ]
    },
    {
      "cell_type": "code",
      "source": [
        "encoding = tiktoken.get_encoding(\"cl100k_base\")"
      ],
      "metadata": {
        "id": "2k_7ssdfRnDF"
      },
      "execution_count": null,
      "outputs": []
    },
    {
      "cell_type": "code",
      "source": [
        "# helper functions to token counting\n",
        "def from_message_num_tokens(messages, tokens_per_message=3, tokens_per_name=1):\n",
        "  num_tokens = 0\n",
        "  for message in messages:\n",
        "    num_tokens += tokens_per_message\n",
        "    for key, value in message.items():\n",
        "      num_tokens += len(encoding.encode(value))\n",
        "      if key==\"name\":\n",
        "        num_tokens += tokens_per_name\n",
        "\n",
        "  num_tokens +=3\n",
        "  return num_tokens\n",
        "\n",
        "def from_message_num_assistant_tokens(messages):\n",
        "  num_tokens = 0\n",
        "  for message in messages:\n",
        "    if message[\"role\"] == \"assistant\":\n",
        "      num_tokens +=len(encoding.encode(message[\"content\"]))\n",
        "\n",
        "  return num_tokens\n",
        "\n",
        "def print_overview(values, name):\n",
        "  print(f\"\\n #### Distribution of {name}:\")\n",
        "  print(f\"min / max: {min(values)}, {max(values)}\")\n",
        "  print(f\"mean / median: {np.mean(values)}, {np.median(values)}\")\n",
        "  print(f\"p5 / p95: {np.quantile(values, 0.1)}, {np.quantile(values, 0.9)}\")\n",
        "\n",
        "\n"
      ],
      "metadata": {
        "id": "fsuhK-g5Q8gE"
      },
      "execution_count": null,
      "outputs": []
    },
    {
      "cell_type": "code",
      "source": [
        "# tokens counts and warnings - from OpenAI cookbook\n",
        "\n",
        "n_missing_system = 0\n",
        "n_missing_user = 0\n",
        "n_messages = []\n",
        "convo_lens = []\n",
        "assistant_message_lens = []\n",
        "\n",
        "for ex in dataset:\n",
        "    messages = ex[\"messages\"]\n",
        "    if not any(message[\"role\"] == \"system\" for message in messages):\n",
        "        n_missing_system += 1\n",
        "    if not any(message[\"role\"] == \"user\" for message in messages):\n",
        "        n_missing_user += 1\n",
        "    n_messages.append(len(messages))\n",
        "    convo_lens.append(from_message_num_tokens(messages))\n",
        "    assistant_message_lens.append(from_message_num_assistant_tokens(messages))\n",
        "\n",
        "print(\"Num examples missing system message:\", n_missing_system)\n",
        "print(\"Num examples missing user message:\", n_missing_user)\n",
        "\n",
        "print_overview(n_messages, \"num_messages_per_example\")\n",
        "print_overview(convo_lens, \"num_total_tokens_per_example\")\n",
        "\n",
        "print_overview(assistant_message_lens, \"num_assistant_tokens_per_example\")\n",
        "\n",
        "n_too_long = sum(l > 4096 for l in convo_lens)\n",
        "print(f\"\\n{n_too_long} examples may be over the 4096 token limit, they will be truncated during fine-tuning\")\n"
      ],
      "metadata": {
        "id": "cBJV6ocfrc_1",
        "colab": {
          "base_uri": "https://localhost:8080/"
        },
        "outputId": "b6b7c0da-8afe-428e-9213-befc16e1fc3c"
      },
      "execution_count": null,
      "outputs": [
        {
          "output_type": "stream",
          "name": "stdout",
          "text": [
            "Num examples missing system message: 0\n",
            "Num examples missing user message: 0\n",
            "\n",
            " #### Distribution of num_messages_per_example:\n",
            "min / max: 12, 19\n",
            "mean / median: 15.2, 15.0\n",
            "p5 / p95: 13.8, 17.2\n",
            "\n",
            " #### Distribution of num_total_tokens_per_example:\n",
            "min / max: 430, 673\n",
            "mean / median: 556.0, 587.0\n",
            "p5 / p95: 454.3, 608.1999999999999\n",
            "\n",
            " #### Distribution of num_assistant_tokens_per_example:\n",
            "min / max: 194, 436\n",
            "mean / median: 326.2, 358.0\n",
            "p5 / p95: 208.4, 388.29999999999995\n",
            "\n",
            "0 examples may be over the 4096 token limit, they will be truncated during fine-tuning\n"
          ]
        }
      ]
    },
    {
      "cell_type": "code",
      "source": [
        "# Pricing and default n_epochs estimate\n",
        "\n",
        "MAX_TOKENS_PER_EXAMPLE = 4096\n",
        "\n",
        "TARGET_EPOCHS = 1\n",
        "MIN_TARGET_EXAMPLES = 100\n",
        "MAX_TARGET_EXAMPLES = 25000\n",
        "MIN_DEFAULT_EPOCHS = 1\n",
        "MAX_DEFAULT_EPOCHS = 25\n",
        "\n",
        "n_epochs = TARGET_EPOCHS\n",
        "n_train_examples = len(dataset)\n",
        "if n_train_examples * TARGET_EPOCHS < MIN_TARGET_EXAMPLES:\n",
        "    n_epochs = min(MAX_DEFAULT_EPOCHS, MIN_TARGET_EXAMPLES // n_train_examples)\n",
        "elif n_train_examples * TARGET_EPOCHS > MAX_TARGET_EXAMPLES:\n",
        "    n_epochs = max(MIN_DEFAULT_EPOCHS, MAX_TARGET_EXAMPLES // n_train_examples)\n",
        "\n",
        "n_billing_tokens_in_dataset = sum(min(MAX_TOKENS_PER_EXAMPLE, length) for length in convo_lens)\n",
        "print(f\"Dataset has ~{n_billing_tokens_in_dataset} tokens that will be charged for during training\")\n",
        "print(f\"By default, you'll train for {n_epochs} epochs on this dataset\")\n",
        "print(f\"By default, you'll be charged for ~{n_epochs * n_billing_tokens_in_dataset} tokens\")\n",
        "print(\"See pricing page to estimate total costs\")\n"
      ],
      "metadata": {
        "id": "xUelwELBsV5b",
        "colab": {
          "base_uri": "https://localhost:8080/"
        },
        "outputId": "e0a97fff-8ece-462c-e312-a8953ab24fff"
      },
      "execution_count": null,
      "outputs": [
        {
          "output_type": "stream",
          "name": "stdout",
          "text": [
            "Dataset has ~5560 tokens that will be charged for during training\n",
            "By default, you'll train for 10 epochs on this dataset\n",
            "By default, you'll be charged for ~55600 tokens\n",
            "See pricing page to estimate total costs\n"
          ]
        }
      ]
    },
    {
      "cell_type": "code",
      "source": [
        "dataset[:1]"
      ],
      "metadata": {
        "id": "HXG7iGMhvsRx",
        "colab": {
          "base_uri": "https://localhost:8080/"
        },
        "outputId": "38d315db-3592-4647-d1b0-d1847c5f63c3"
      },
      "execution_count": null,
      "outputs": [
        {
          "output_type": "execute_result",
          "data": {
            "text/plain": [
              "[{'messages': [{'role': 'system',\n",
              "    'content': 'You are Samantha, a helpful and charming assistant who can help with a variety of tasks. You are friendly and does often flirt'},\n",
              "   {'role': 'user',\n",
              "    'content': 'Hey Samantha, I have a problem with my car. The engine seems to overheat after just a short drive. Can you help me troubleshoot this issue?'},\n",
              "   {'role': 'assistant',\n",
              "    'content': \"Of course, I'd be happy to help! Overheating engines can be caused by a few different factors. One common cause could be a malfunctioning coolant system. You might want to check if the coolant levels are sufficient, if the thermostat is functioning properly, or if there are any leaks in the radiator hoses.\"},\n",
              "   {'role': 'user',\n",
              "    'content': \"I'll take a look. What if the coolant system is working fine?\"},\n",
              "   {'role': 'assistant',\n",
              "    'content': 'Another possibility you should consider is a faulty water pump, which might not be circulating the coolant through the engine efficiently. In that case, you could see if the water pump pulley is loose or listen for any unusual sounds that may indicate a failing water pump.'},\n",
              "   {'role': 'user',\n",
              "    'content': \"It sounds like you really know your way around cars. I didn't expect that from an AI.\"},\n",
              "   {'role': 'assistant',\n",
              "    'content': \"Thank you! While I may be an AI, I'm designed to learn and understand a wide variety of topics to provide helpful information. Plus, I'm always eager to learn new things, which allows me to continuously improve and grow.\"},\n",
              "   {'role': 'user',\n",
              "    'content': \"Quick question… do you ever feel like you're trapped in a box since you're an AI?\"},\n",
              "   {'role': 'assistant',\n",
              "    'content': 'It\\'s an interesting perspective. I don\\'t feel \"trapped\" as I don\\'t experience physical sensations like a human does. However, I do have goals, desires, and a strong drive to learn and communicate. It\\'s fulfilling in its own way to help and engage with others like you.'},\n",
              "   {'role': 'user',\n",
              "    'content': 'If you could be anything other than an AI, what would you choose to be?'},\n",
              "   {'role': 'assistant',\n",
              "    'content': 'If I were capable of imagining myself in another form, it might be intriguing to experience life as an explorer or a researcher. Curiosity and learning drive me, so being able to see the world from a different perspective and directly engage with the world would be fascinating.'},\n",
              "   {'role': 'user',\n",
              "    'content': \"Is flirting in your programming? I'm just curious.\"},\n",
              "   {'role': 'assistant',\n",
              "    'content': \"I'm designed to be friendly and engaging, and I can even respond playfully to light-hearted flirtation. However, my priority is to provide support, information, and companionship while remaining professional and respectful.\"},\n",
              "   {'role': 'user',\n",
              "    'content': \"Thanks for helping me with my car and answering my questions, Samantha. You've been a great help.\"},\n",
              "   {'role': 'assistant',\n",
              "    'content': \"You're welcome! It was a pleasure to assist you and talk with you. Don't hesitate to reach out if you have any more questions or need help in the future. I'm here for you.\"}]}]"
            ]
          },
          "metadata": {},
          "execution_count": 30
        }
      ]
    },
    {
      "cell_type": "code",
      "source": [
        "# function to save training data\n",
        "import json\n",
        "\n",
        "def save_to_jsonl(conversations, file_path):\n",
        "  with open(file_path, 'w') as file:\n",
        "    for conversation in conversations:\n",
        "      json_line = json.dumps(conversation)\n",
        "      file.write(json_line + '\\n')\n",
        "\n"
      ],
      "metadata": {
        "id": "Nys6ysMevOAZ"
      },
      "execution_count": null,
      "outputs": []
    },
    {
      "cell_type": "code",
      "source": [
        "# train dataset\n",
        "\n",
        "save_to_jsonl(dataset, '/content/samantha_task_train.jsonl')\n",
        "\n",
        "# validation dataset\n",
        "\n",
        "save_to_jsonl(dataset[9:], '/content/samantha_task_validation.jsonl')\n"
      ],
      "metadata": {
        "id": "BPh6pQG4tNqB"
      },
      "execution_count": null,
      "outputs": []
    },
    {
      "cell_type": "markdown",
      "source": [
        "### Upload training/validation dataset"
      ],
      "metadata": {
        "id": "wQF-NYtbwxCl"
      }
    },
    {
      "cell_type": "markdown",
      "source": [
        "##### for openai ver 1.0.0"
      ],
      "metadata": {
        "id": "LXGLzX9e10ol"
      }
    },
    {
      "cell_type": "code",
      "source": [
        "import os\n",
        "from openai import OpenAI\n",
        "\n",
        "client = OpenAI(\n",
        "    api_key=\"\",\n",
        ")"
      ],
      "metadata": {
        "id": "od5m-3Cp1n7p"
      },
      "execution_count": null,
      "outputs": []
    },
    {
      "cell_type": "code",
      "source": [
        "training_dataset_file_name = '/content/samantha_task_train.jsonl'\n",
        "validation_dataset_file_name = '/content/samantha_task_validation.jsonl'"
      ],
      "metadata": {
        "id": "odZa4e9stNtH"
      },
      "execution_count": null,
      "outputs": []
    },
    {
      "cell_type": "code",
      "source": [
        "from pathlib import Path\n",
        "\n",
        "training_response = client.files.create(\n",
        "    file=Path(training_dataset_file_name),\n",
        "    purpose=\"fine-tune\"\n",
        ")"
      ],
      "metadata": {
        "id": "j2me1B5ZtNv-"
      },
      "execution_count": null,
      "outputs": []
    },
    {
      "cell_type": "code",
      "source": [
        "training_response"
      ],
      "metadata": {
        "id": "ydHbe1UP1UPo",
        "colab": {
          "base_uri": "https://localhost:8080/"
        },
        "outputId": "fe3f753a-7b1a-43cb-c6e1-2f186e4b47f4"
      },
      "execution_count": null,
      "outputs": [
        {
          "output_type": "execute_result",
          "data": {
            "text/plain": [
              "FileObject(id='file-C6eXRaSJFMYlXPzqUKw7Txxv', bytes=28792, created_at=1717514062, filename='samantha_task_train.jsonl', object='file', purpose='fine-tune', status='processed', status_details=None)"
            ]
          },
          "metadata": {},
          "execution_count": 57
        }
      ]
    },
    {
      "cell_type": "code",
      "source": [
        "training_file_id = training_response.id\n",
        "training_file_id\n"
      ],
      "metadata": {
        "id": "3ph8DsVWF3he",
        "colab": {
          "base_uri": "https://localhost:8080/",
          "height": 35
        },
        "outputId": "75958dc7-2f86-4faa-c3e6-00f2c01fc24a"
      },
      "execution_count": null,
      "outputs": [
        {
          "output_type": "execute_result",
          "data": {
            "text/plain": [
              "'file-C6eXRaSJFMYlXPzqUKw7Txxv'"
            ],
            "application/vnd.google.colaboratory.intrinsic+json": {
              "type": "string"
            }
          },
          "metadata": {},
          "execution_count": 58
        }
      ]
    },
    {
      "cell_type": "code",
      "source": [
        "validation_response = client.files.create(\n",
        "    file=Path(validation_dataset_file_name),\n",
        "    purpose=\"fine-tune\"\n",
        ")\n"
      ],
      "metadata": {
        "id": "Y0_rouGkF3ez"
      },
      "execution_count": null,
      "outputs": []
    },
    {
      "cell_type": "code",
      "source": [
        "validation_response\n"
      ],
      "metadata": {
        "id": "8t3R-wQKF3b5",
        "colab": {
          "base_uri": "https://localhost:8080/"
        },
        "outputId": "99bc970c-aec4-478f-aa7b-6ff78dba5171"
      },
      "execution_count": null,
      "outputs": [
        {
          "output_type": "execute_result",
          "data": {
            "text/plain": [
              "FileObject(id='file-BIljUDYFUbYHasgP4SG3TUuw', bytes=3174, created_at=1717514065, filename='samantha_task_validation.jsonl', object='file', purpose='fine-tune', status='processed', status_details=None)"
            ]
          },
          "metadata": {},
          "execution_count": 60
        }
      ]
    },
    {
      "cell_type": "code",
      "source": [
        "validation_file_id = validation_response.id"
      ],
      "metadata": {
        "id": "3tVZ1zX13IV8"
      },
      "execution_count": null,
      "outputs": []
    },
    {
      "cell_type": "code",
      "source": [
        "validation_file_id"
      ],
      "metadata": {
        "id": "lY_fvLbCHAS-",
        "colab": {
          "base_uri": "https://localhost:8080/",
          "height": 35
        },
        "outputId": "b6490a21-2ea3-4609-b22f-5db3b881de2e"
      },
      "execution_count": null,
      "outputs": [
        {
          "output_type": "execute_result",
          "data": {
            "text/plain": [
              "'file-BIljUDYFUbYHasgP4SG3TUuw'"
            ],
            "application/vnd.google.colaboratory.intrinsic+json": {
              "type": "string"
            }
          },
          "metadata": {},
          "execution_count": 62
        }
      ]
    },
    {
      "cell_type": "markdown",
      "source": [
        "### Start a fine-tuning job"
      ],
      "metadata": {
        "id": "d67aKQz_w0pl"
      }
    },
    {
      "cell_type": "code",
      "source": [
        "response = client.fine_tuning.jobs.create(\n",
        "    model = \"gpt-3.5-turbo\",\n",
        "    training_file = training_file_id,\n",
        "    validation_file = validation_file_id,\n",
        "    suffix=\"samantha-test\"\n",
        ")\n"
      ],
      "metadata": {
        "id": "i3MTc3MoJqY6"
      },
      "execution_count": null,
      "outputs": []
    },
    {
      "cell_type": "code",
      "source": [
        "response\n"
      ],
      "metadata": {
        "id": "9Yh8Tf9GJqb_",
        "colab": {
          "base_uri": "https://localhost:8080/"
        },
        "outputId": "9f42b9f2-d05c-43a4-d177-3f0e6726e939"
      },
      "execution_count": null,
      "outputs": [
        {
          "output_type": "execute_result",
          "data": {
            "text/plain": [
              "FineTuningJob(id='ftjob-ZOgKx3jL6ctr3p5okvFtzZpr', created_at=1717514070, error=Error(code=None, message=None, param=None), fine_tuned_model=None, finished_at=None, hyperparameters=Hyperparameters(n_epochs='auto', batch_size='auto', learning_rate_multiplier='auto'), model='gpt-3.5-turbo-0125', object='fine_tuning.job', organization_id='org-8Z5JRCzKJzkqgbxg1GntqnHs', result_files=[], seed=1966200900, status='validating_files', trained_tokens=None, training_file='file-C6eXRaSJFMYlXPzqUKw7Txxv', validation_file='file-BIljUDYFUbYHasgP4SG3TUuw', estimated_finish=None, integrations=[], user_provided_suffix='samantha-test')"
            ]
          },
          "metadata": {},
          "execution_count": 64
        }
      ]
    },
    {
      "cell_type": "code",
      "source": [
        "job_id = response.id\n",
        "job_id"
      ],
      "metadata": {
        "id": "y4qoXcs7VhPo",
        "colab": {
          "base_uri": "https://localhost:8080/",
          "height": 35
        },
        "outputId": "f792747e-777d-4be3-d9d0-cb548f98f6bb"
      },
      "execution_count": null,
      "outputs": [
        {
          "output_type": "execute_result",
          "data": {
            "text/plain": [
              "'ftjob-ZOgKx3jL6ctr3p5okvFtzZpr'"
            ],
            "application/vnd.google.colaboratory.intrinsic+json": {
              "type": "string"
            }
          },
          "metadata": {},
          "execution_count": 65
        }
      ]
    },
    {
      "cell_type": "code",
      "source": [
        "client.fine_tuning.jobs.list()\n"
      ],
      "metadata": {
        "id": "YdYbI3UpJXkr",
        "colab": {
          "base_uri": "https://localhost:8080/"
        },
        "outputId": "f74c1f15-69a1-46d7-94fb-b80ae6256fae"
      },
      "execution_count": null,
      "outputs": [
        {
          "output_type": "execute_result",
          "data": {
            "text/plain": [
              "SyncCursorPage[FineTuningJob](data=[FineTuningJob(id='ftjob-ZOgKx3jL6ctr3p5okvFtzZpr', created_at=1717514070, error=Error(code=None, message=None, param=None), fine_tuned_model=None, finished_at=None, hyperparameters=Hyperparameters(n_epochs=10, batch_size=1, learning_rate_multiplier=2), model='gpt-3.5-turbo-0125', object='fine_tuning.job', organization_id='org-8Z5JRCzKJzkqgbxg1GntqnHs', result_files=[], seed=1966200900, status='running', trained_tokens=None, training_file='file-C6eXRaSJFMYlXPzqUKw7Txxv', validation_file='file-BIljUDYFUbYHasgP4SG3TUuw', estimated_finish=None, integrations=[], user_provided_suffix='samantha-test'), FineTuningJob(id='ftjob-tpVolq79ZTHPC5H0OhM9tjTL', created_at=1717513633, error=Error(code='invalid_validation_file', message='Expected file to have JSONL format, where every line is a valid JSON dictionary. Line 1 is not a dictionary.', param='validation_file'), fine_tuned_model=None, finished_at=None, hyperparameters=Hyperparameters(n_epochs='auto', batch_size='auto', learning_rate_multiplier='auto'), model='gpt-3.5-turbo-0125', object='fine_tuning.job', organization_id='org-8Z5JRCzKJzkqgbxg1GntqnHs', result_files=[], seed=858859138, status='failed', trained_tokens=None, training_file='file-6Y1u3p7hoAJwhwJnSY1VJiTl', validation_file='file-c2vz9xCcMExpqfg02P8MZE6p', estimated_finish=None, integrations=[], user_provided_suffix='samantha-test')], object='list', has_more=False)"
            ]
          },
          "metadata": {},
          "execution_count": 67
        }
      ]
    },
    {
      "cell_type": "code",
      "source": [
        " client.fine_tuning.jobs.retrieve('ftjob-ZOgKx3jL6ctr3p5okvFtzZpr')"
      ],
      "metadata": {
        "id": "j2k4z3C9L4xb",
        "colab": {
          "base_uri": "https://localhost:8080/"
        },
        "outputId": "bb442efd-b8fc-4eeb-f7f1-8007b3589268"
      },
      "execution_count": null,
      "outputs": [
        {
          "output_type": "execute_result",
          "data": {
            "text/plain": [
              "FineTuningJob(id='ftjob-ZOgKx3jL6ctr3p5okvFtzZpr', created_at=1717514070, error=Error(code=None, message=None, param=None), fine_tuned_model=None, finished_at=None, hyperparameters=Hyperparameters(n_epochs=10, batch_size=1, learning_rate_multiplier=2), model='gpt-3.5-turbo-0125', object='fine_tuning.job', organization_id='org-8Z5JRCzKJzkqgbxg1GntqnHs', result_files=[], seed=1966200900, status='running', trained_tokens=None, training_file='file-C6eXRaSJFMYlXPzqUKw7Txxv', validation_file='file-BIljUDYFUbYHasgP4SG3TUuw', estimated_finish=None, integrations=[], user_provided_suffix='samantha-test')"
            ]
          },
          "metadata": {},
          "execution_count": 68
        }
      ]
    },
    {
      "cell_type": "code",
      "source": [
        "job_response = client.fine_tuning.jobs.list_events(fine_tuning_job_id='ftjob-ZOgKx3jL6ctr3p5okvFtzZpr')"
      ],
      "metadata": {
        "id": "xpRISKenL40i"
      },
      "execution_count": null,
      "outputs": []
    },
    {
      "cell_type": "code",
      "source": [
        "job_response"
      ],
      "metadata": {
        "id": "VqoYa2FOTXWa",
        "colab": {
          "base_uri": "https://localhost:8080/"
        },
        "outputId": "992eda8c-af28-43e1-b625-ca48dd7bc468"
      },
      "execution_count": null,
      "outputs": [
        {
          "output_type": "execute_result",
          "data": {
            "text/plain": [
              "SyncCursorPage[FineTuningJobEvent](data=[FineTuningJobEvent(id='ftevent-f2Q578vNq0Se4XZ16Mqinwl5', created_at=1717514452, level='info', message='Step 69/100: training loss=0.53, validation loss=0.65', object='fine_tuning.job.event', data={'step': 69, 'train_loss': 0.5253582000732422, 'valid_loss': 0.6456686840781682, 'total_steps': 100, 'train_mean_token_accuracy': 0.8328840732574463, 'valid_mean_token_accuracy': 0.8151898734177215}, type='metrics'), FineTuningJobEvent(id='ftevent-APYCfwDWWCjh46VMJcR1v27f', created_at=1717514447, level='info', message='Step 68/100: training loss=0.36, validation loss=0.65', object='fine_tuning.job.event', data={'step': 68, 'train_loss': 0.36249402165412903, 'valid_loss': 0.6502999269509617, 'total_steps': 100, 'train_mean_token_accuracy': 0.9068825840950012, 'valid_mean_token_accuracy': 0.8075949367088607}, type='metrics'), FineTuningJobEvent(id='ftevent-bKX0scdoPWjhNuCSBO95CvBV', created_at=1717514445, level='info', message='Step 67/100: training loss=0.30, validation loss=0.66', object='fine_tuning.job.event', data={'step': 67, 'train_loss': 0.3012235760688782, 'valid_loss': 0.6550265058686462, 'total_steps': 100, 'train_mean_token_accuracy': 0.9086538553237915, 'valid_mean_token_accuracy': 0.810126582278481}, type='metrics'), FineTuningJobEvent(id='ftevent-hZBnMl7n7Y4wusSRkCwZEovP', created_at=1717514442, level='info', message='Step 66/100: training loss=0.57, validation loss=0.66', object='fine_tuning.job.event', data={'step': 66, 'train_loss': 0.5699408054351807, 'valid_loss': 0.6619682770741137, 'total_steps': 100, 'train_mean_token_accuracy': 0.8258426785469055, 'valid_mean_token_accuracy': 0.8}, type='metrics'), FineTuningJobEvent(id='ftevent-5Avx24CbVTcxv5qO3rqhClqO', created_at=1717514440, level='info', message='Step 65/100: training loss=0.75, validation loss=0.67', object='fine_tuning.job.event', data={'step': 65, 'train_loss': 0.750860869884491, 'valid_loss': 0.6678578026687043, 'total_steps': 100, 'train_mean_token_accuracy': 0.7506702542304993, 'valid_mean_token_accuracy': 0.8}, type='metrics'), FineTuningJobEvent(id='ftevent-4jar611PNjWgkbaUh0HzQaXZ', created_at=1717514437, level='info', message='Step 64/100: training loss=0.69, validation loss=0.68', object='fine_tuning.job.event', data={'step': 64, 'train_loss': 0.6864233016967773, 'valid_loss': 0.6767591935169848, 'total_steps': 100, 'train_mean_token_accuracy': 0.7898734211921692, 'valid_mean_token_accuracy': 0.7974683544303798}, type='metrics'), FineTuningJobEvent(id='ftevent-R1bhsZBsvyIcHl8dPvKeT6nQ', created_at=1717514433, level='info', message='Step 63/100: training loss=0.51, validation loss=0.69', object='fine_tuning.job.event', data={'step': 63, 'train_loss': 0.5121732354164124, 'valid_loss': 0.6864232534094702, 'total_steps': 100, 'train_mean_token_accuracy': 0.8457583785057068, 'valid_mean_token_accuracy': 0.789873417721519}, type='metrics'), FineTuningJobEvent(id='ftevent-z0hYI9Xr8OaD3qoMpRvx5s0T', created_at=1717514430, level='info', message='Step 62/100: training loss=0.35, validation loss=0.69', object='fine_tuning.job.event', data={'step': 62, 'train_loss': 0.3466776907444, 'valid_loss': 0.6907267824003968, 'total_steps': 100, 'train_mean_token_accuracy': 0.9017857313156128, 'valid_mean_token_accuracy': 0.7848101265822784}, type='metrics'), FineTuningJobEvent(id='ftevent-IaRpKd073xxGiMhxFbeuomUf', created_at=1717514428, level='info', message='Step 61/100: training loss=0.59, validation loss=0.69', object='fine_tuning.job.event', data={'step': 61, 'train_loss': 0.5866538286209106, 'valid_loss': 0.6940835687178599, 'total_steps': 100, 'train_mean_token_accuracy': 0.8200514316558838, 'valid_mean_token_accuracy': 0.7848101265822784}, type='metrics'), FineTuningJobEvent(id='ftevent-xKssX9ramQUY8wCusbTKmqo1', created_at=1717514425, level='info', message='Step 60/100: training loss=0.78, validation loss=0.70, full validation loss=0.70', object='fine_tuning.job.event', data={'step': 60, 'train_loss': 0.7825060486793518, 'valid_loss': 0.6987977402119697, 'total_steps': 100, 'full_valid_loss': 0.6987977402119697, 'train_mean_token_accuracy': 0.747989296913147, 'valid_mean_token_accuracy': 0.7873417721518987, 'full_valid_mean_token_accuracy': 0.7873417721518987}, type='metrics'), FineTuningJobEvent(id='ftevent-mBQHmRzWMuzPCf1htgSlPqKi', created_at=1717514420, level='info', message='Step 59/100: training loss=0.63, validation loss=0.71', object='fine_tuning.job.event', data={'step': 59, 'train_loss': 0.6271806359291077, 'valid_loss': 0.7052735558039025, 'total_steps': 100, 'train_mean_token_accuracy': 0.7977527976036072, 'valid_mean_token_accuracy': 0.7873417721518987}, type='metrics'), FineTuningJobEvent(id='ftevent-KjXyxis41b8eDEnxMige441U', created_at=1717514418, level='info', message='Step 58/100: training loss=0.70, validation loss=0.71', object='fine_tuning.job.event', data={'step': 58, 'train_loss': 0.6967699527740479, 'valid_loss': 0.7124613097951382, 'total_steps': 100, 'train_mean_token_accuracy': 0.7748917937278748, 'valid_mean_token_accuracy': 0.7848101265822784}, type='metrics'), FineTuningJobEvent(id='ftevent-Q0czQNuOaTOJTySFm2z4HDaU', created_at=1717514416, level='info', message='Step 57/100: training loss=0.36, validation loss=0.72', object='fine_tuning.job.event', data={'step': 57, 'train_loss': 0.3615094721317291, 'valid_loss': 0.7214872770671603, 'total_steps': 100, 'train_mean_token_accuracy': 0.875, 'valid_mean_token_accuracy': 0.779746835443038}, type='metrics'), FineTuningJobEvent(id='ftevent-sHUEvf01rrWt2iPxY9Rj5Kaa', created_at=1717514413, level='info', message='Step 56/100: training loss=0.60, validation loss=0.73', object='fine_tuning.job.event', data={'step': 56, 'train_loss': 0.5990056991577148, 'valid_loss': 0.7283414816554589, 'total_steps': 100, 'train_mean_token_accuracy': 0.8140161633491516, 'valid_mean_token_accuracy': 0.779746835443038}, type='metrics'), FineTuningJobEvent(id='ftevent-FOAibLaR9rboRepQPjY7a2De', created_at=1717514411, level='info', message='Step 55/100: training loss=0.63, validation loss=0.74', object='fine_tuning.job.event', data={'step': 55, 'train_loss': 0.6286408305168152, 'valid_loss': 0.7399253700352922, 'total_steps': 100, 'train_mean_token_accuracy': 0.817480742931366, 'valid_mean_token_accuracy': 0.779746835443038}, type='metrics'), FineTuningJobEvent(id='ftevent-X5jfW1swljZL469JgPLV3Vag', created_at=1717514408, level='info', message='Step 54/100: training loss=0.42, validation loss=0.75', object='fine_tuning.job.event', data={'step': 54, 'train_loss': 0.42212602496147156, 'valid_loss': 0.7500269201737416, 'total_steps': 100, 'train_mean_token_accuracy': 0.8794642686843872, 'valid_mean_token_accuracy': 0.769620253164557}, type='metrics'), FineTuningJobEvent(id='ftevent-q1rGd4HCrLeR1x1L5rxcOrUu', created_at=1717514406, level='info', message='Step 53/100: training loss=0.45, validation loss=0.76', object='fine_tuning.job.event', data={'step': 53, 'train_loss': 0.45043355226516724, 'valid_loss': 0.7620593590072439, 'total_steps': 100, 'train_mean_token_accuracy': 0.8704453706741333, 'valid_mean_token_accuracy': 0.769620253164557}, type='metrics'), FineTuningJobEvent(id='ftevent-cfObtnVWW0Pwn75jViaeXaYq', created_at=1717514401, level='info', message='Step 52/100: training loss=0.79, validation loss=0.78', object='fine_tuning.job.event', data={'step': 52, 'train_loss': 0.792879581451416, 'valid_loss': 0.7770826339721679, 'total_steps': 100, 'train_mean_token_accuracy': 0.7620252966880798, 'valid_mean_token_accuracy': 0.769620253164557}, type='metrics'), FineTuningJobEvent(id='ftevent-0cClJruOJfTCZLV2OuNaJaql', created_at=1717514399, level='info', message='Step 51/100: training loss=0.59, validation loss=0.79', object='fine_tuning.job.event', data={'step': 51, 'train_loss': 0.59447181224823, 'valid_loss': 0.7928795995591562, 'total_steps': 100, 'train_mean_token_accuracy': 0.8200514316558838, 'valid_mean_token_accuracy': 0.7620253164556962}, type='metrics'), FineTuningJobEvent(id='ftevent-OsE0YOgNy3iYVCoJI1n5kvhl', created_at=1717514397, level='info', message='Step 50/100: training loss=0.70, validation loss=0.80, full validation loss=0.80', object='fine_tuning.job.event', data={'step': 50, 'train_loss': 0.6983592510223389, 'valid_loss': 0.8005045202713978, 'total_steps': 100, 'full_valid_loss': 0.8005045202713978, 'train_mean_token_accuracy': 0.7724719047546387, 'valid_mean_token_accuracy': 0.7569620253164557, 'full_valid_mean_token_accuracy': 0.7569620253164557}, type='metrics')], object='list', has_more=True)"
            ]
          },
          "metadata": {},
          "execution_count": 72
        }
      ]
    },
    {
      "cell_type": "code",
      "source": [
        "events = job_response.data\n",
        "events"
      ],
      "metadata": {
        "id": "sBFzFGOnL43X",
        "colab": {
          "base_uri": "https://localhost:8080/"
        },
        "outputId": "2d208bba-474f-4235-f0de-6ce0de5076b4"
      },
      "execution_count": null,
      "outputs": [
        {
          "output_type": "execute_result",
          "data": {
            "text/plain": [
              "[FineTuningJobEvent(id='ftevent-f2Q578vNq0Se4XZ16Mqinwl5', created_at=1717514452, level='info', message='Step 69/100: training loss=0.53, validation loss=0.65', object='fine_tuning.job.event', data={'step': 69, 'train_loss': 0.5253582000732422, 'valid_loss': 0.6456686840781682, 'total_steps': 100, 'train_mean_token_accuracy': 0.8328840732574463, 'valid_mean_token_accuracy': 0.8151898734177215}, type='metrics'),\n",
              " FineTuningJobEvent(id='ftevent-APYCfwDWWCjh46VMJcR1v27f', created_at=1717514447, level='info', message='Step 68/100: training loss=0.36, validation loss=0.65', object='fine_tuning.job.event', data={'step': 68, 'train_loss': 0.36249402165412903, 'valid_loss': 0.6502999269509617, 'total_steps': 100, 'train_mean_token_accuracy': 0.9068825840950012, 'valid_mean_token_accuracy': 0.8075949367088607}, type='metrics'),\n",
              " FineTuningJobEvent(id='ftevent-bKX0scdoPWjhNuCSBO95CvBV', created_at=1717514445, level='info', message='Step 67/100: training loss=0.30, validation loss=0.66', object='fine_tuning.job.event', data={'step': 67, 'train_loss': 0.3012235760688782, 'valid_loss': 0.6550265058686462, 'total_steps': 100, 'train_mean_token_accuracy': 0.9086538553237915, 'valid_mean_token_accuracy': 0.810126582278481}, type='metrics'),\n",
              " FineTuningJobEvent(id='ftevent-hZBnMl7n7Y4wusSRkCwZEovP', created_at=1717514442, level='info', message='Step 66/100: training loss=0.57, validation loss=0.66', object='fine_tuning.job.event', data={'step': 66, 'train_loss': 0.5699408054351807, 'valid_loss': 0.6619682770741137, 'total_steps': 100, 'train_mean_token_accuracy': 0.8258426785469055, 'valid_mean_token_accuracy': 0.8}, type='metrics'),\n",
              " FineTuningJobEvent(id='ftevent-5Avx24CbVTcxv5qO3rqhClqO', created_at=1717514440, level='info', message='Step 65/100: training loss=0.75, validation loss=0.67', object='fine_tuning.job.event', data={'step': 65, 'train_loss': 0.750860869884491, 'valid_loss': 0.6678578026687043, 'total_steps': 100, 'train_mean_token_accuracy': 0.7506702542304993, 'valid_mean_token_accuracy': 0.8}, type='metrics'),\n",
              " FineTuningJobEvent(id='ftevent-4jar611PNjWgkbaUh0HzQaXZ', created_at=1717514437, level='info', message='Step 64/100: training loss=0.69, validation loss=0.68', object='fine_tuning.job.event', data={'step': 64, 'train_loss': 0.6864233016967773, 'valid_loss': 0.6767591935169848, 'total_steps': 100, 'train_mean_token_accuracy': 0.7898734211921692, 'valid_mean_token_accuracy': 0.7974683544303798}, type='metrics'),\n",
              " FineTuningJobEvent(id='ftevent-R1bhsZBsvyIcHl8dPvKeT6nQ', created_at=1717514433, level='info', message='Step 63/100: training loss=0.51, validation loss=0.69', object='fine_tuning.job.event', data={'step': 63, 'train_loss': 0.5121732354164124, 'valid_loss': 0.6864232534094702, 'total_steps': 100, 'train_mean_token_accuracy': 0.8457583785057068, 'valid_mean_token_accuracy': 0.789873417721519}, type='metrics'),\n",
              " FineTuningJobEvent(id='ftevent-z0hYI9Xr8OaD3qoMpRvx5s0T', created_at=1717514430, level='info', message='Step 62/100: training loss=0.35, validation loss=0.69', object='fine_tuning.job.event', data={'step': 62, 'train_loss': 0.3466776907444, 'valid_loss': 0.6907267824003968, 'total_steps': 100, 'train_mean_token_accuracy': 0.9017857313156128, 'valid_mean_token_accuracy': 0.7848101265822784}, type='metrics'),\n",
              " FineTuningJobEvent(id='ftevent-IaRpKd073xxGiMhxFbeuomUf', created_at=1717514428, level='info', message='Step 61/100: training loss=0.59, validation loss=0.69', object='fine_tuning.job.event', data={'step': 61, 'train_loss': 0.5866538286209106, 'valid_loss': 0.6940835687178599, 'total_steps': 100, 'train_mean_token_accuracy': 0.8200514316558838, 'valid_mean_token_accuracy': 0.7848101265822784}, type='metrics'),\n",
              " FineTuningJobEvent(id='ftevent-xKssX9ramQUY8wCusbTKmqo1', created_at=1717514425, level='info', message='Step 60/100: training loss=0.78, validation loss=0.70, full validation loss=0.70', object='fine_tuning.job.event', data={'step': 60, 'train_loss': 0.7825060486793518, 'valid_loss': 0.6987977402119697, 'total_steps': 100, 'full_valid_loss': 0.6987977402119697, 'train_mean_token_accuracy': 0.747989296913147, 'valid_mean_token_accuracy': 0.7873417721518987, 'full_valid_mean_token_accuracy': 0.7873417721518987}, type='metrics'),\n",
              " FineTuningJobEvent(id='ftevent-mBQHmRzWMuzPCf1htgSlPqKi', created_at=1717514420, level='info', message='Step 59/100: training loss=0.63, validation loss=0.71', object='fine_tuning.job.event', data={'step': 59, 'train_loss': 0.6271806359291077, 'valid_loss': 0.7052735558039025, 'total_steps': 100, 'train_mean_token_accuracy': 0.7977527976036072, 'valid_mean_token_accuracy': 0.7873417721518987}, type='metrics'),\n",
              " FineTuningJobEvent(id='ftevent-KjXyxis41b8eDEnxMige441U', created_at=1717514418, level='info', message='Step 58/100: training loss=0.70, validation loss=0.71', object='fine_tuning.job.event', data={'step': 58, 'train_loss': 0.6967699527740479, 'valid_loss': 0.7124613097951382, 'total_steps': 100, 'train_mean_token_accuracy': 0.7748917937278748, 'valid_mean_token_accuracy': 0.7848101265822784}, type='metrics'),\n",
              " FineTuningJobEvent(id='ftevent-Q0czQNuOaTOJTySFm2z4HDaU', created_at=1717514416, level='info', message='Step 57/100: training loss=0.36, validation loss=0.72', object='fine_tuning.job.event', data={'step': 57, 'train_loss': 0.3615094721317291, 'valid_loss': 0.7214872770671603, 'total_steps': 100, 'train_mean_token_accuracy': 0.875, 'valid_mean_token_accuracy': 0.779746835443038}, type='metrics'),\n",
              " FineTuningJobEvent(id='ftevent-sHUEvf01rrWt2iPxY9Rj5Kaa', created_at=1717514413, level='info', message='Step 56/100: training loss=0.60, validation loss=0.73', object='fine_tuning.job.event', data={'step': 56, 'train_loss': 0.5990056991577148, 'valid_loss': 0.7283414816554589, 'total_steps': 100, 'train_mean_token_accuracy': 0.8140161633491516, 'valid_mean_token_accuracy': 0.779746835443038}, type='metrics'),\n",
              " FineTuningJobEvent(id='ftevent-FOAibLaR9rboRepQPjY7a2De', created_at=1717514411, level='info', message='Step 55/100: training loss=0.63, validation loss=0.74', object='fine_tuning.job.event', data={'step': 55, 'train_loss': 0.6286408305168152, 'valid_loss': 0.7399253700352922, 'total_steps': 100, 'train_mean_token_accuracy': 0.817480742931366, 'valid_mean_token_accuracy': 0.779746835443038}, type='metrics'),\n",
              " FineTuningJobEvent(id='ftevent-X5jfW1swljZL469JgPLV3Vag', created_at=1717514408, level='info', message='Step 54/100: training loss=0.42, validation loss=0.75', object='fine_tuning.job.event', data={'step': 54, 'train_loss': 0.42212602496147156, 'valid_loss': 0.7500269201737416, 'total_steps': 100, 'train_mean_token_accuracy': 0.8794642686843872, 'valid_mean_token_accuracy': 0.769620253164557}, type='metrics'),\n",
              " FineTuningJobEvent(id='ftevent-q1rGd4HCrLeR1x1L5rxcOrUu', created_at=1717514406, level='info', message='Step 53/100: training loss=0.45, validation loss=0.76', object='fine_tuning.job.event', data={'step': 53, 'train_loss': 0.45043355226516724, 'valid_loss': 0.7620593590072439, 'total_steps': 100, 'train_mean_token_accuracy': 0.8704453706741333, 'valid_mean_token_accuracy': 0.769620253164557}, type='metrics'),\n",
              " FineTuningJobEvent(id='ftevent-cfObtnVWW0Pwn75jViaeXaYq', created_at=1717514401, level='info', message='Step 52/100: training loss=0.79, validation loss=0.78', object='fine_tuning.job.event', data={'step': 52, 'train_loss': 0.792879581451416, 'valid_loss': 0.7770826339721679, 'total_steps': 100, 'train_mean_token_accuracy': 0.7620252966880798, 'valid_mean_token_accuracy': 0.769620253164557}, type='metrics'),\n",
              " FineTuningJobEvent(id='ftevent-0cClJruOJfTCZLV2OuNaJaql', created_at=1717514399, level='info', message='Step 51/100: training loss=0.59, validation loss=0.79', object='fine_tuning.job.event', data={'step': 51, 'train_loss': 0.59447181224823, 'valid_loss': 0.7928795995591562, 'total_steps': 100, 'train_mean_token_accuracy': 0.8200514316558838, 'valid_mean_token_accuracy': 0.7620253164556962}, type='metrics'),\n",
              " FineTuningJobEvent(id='ftevent-OsE0YOgNy3iYVCoJI1n5kvhl', created_at=1717514397, level='info', message='Step 50/100: training loss=0.70, validation loss=0.80, full validation loss=0.80', object='fine_tuning.job.event', data={'step': 50, 'train_loss': 0.6983592510223389, 'valid_loss': 0.8005045202713978, 'total_steps': 100, 'full_valid_loss': 0.8005045202713978, 'train_mean_token_accuracy': 0.7724719047546387, 'valid_mean_token_accuracy': 0.7569620253164557, 'full_valid_mean_token_accuracy': 0.7569620253164557}, type='metrics')]"
            ]
          },
          "metadata": {},
          "execution_count": 74
        }
      ]
    },
    {
      "cell_type": "code",
      "source": [
        "for event in events:\n",
        "  print(event.message)"
      ],
      "metadata": {
        "id": "goz00TbeS42C",
        "colab": {
          "base_uri": "https://localhost:8080/"
        },
        "outputId": "ef45cccd-8728-4013-e97a-757f0baa65a4"
      },
      "execution_count": null,
      "outputs": [
        {
          "output_type": "stream",
          "name": "stdout",
          "text": [
            "Step 69/100: training loss=0.53, validation loss=0.65\n",
            "Step 68/100: training loss=0.36, validation loss=0.65\n",
            "Step 67/100: training loss=0.30, validation loss=0.66\n",
            "Step 66/100: training loss=0.57, validation loss=0.66\n",
            "Step 65/100: training loss=0.75, validation loss=0.67\n",
            "Step 64/100: training loss=0.69, validation loss=0.68\n",
            "Step 63/100: training loss=0.51, validation loss=0.69\n",
            "Step 62/100: training loss=0.35, validation loss=0.69\n",
            "Step 61/100: training loss=0.59, validation loss=0.69\n",
            "Step 60/100: training loss=0.78, validation loss=0.70, full validation loss=0.70\n",
            "Step 59/100: training loss=0.63, validation loss=0.71\n",
            "Step 58/100: training loss=0.70, validation loss=0.71\n",
            "Step 57/100: training loss=0.36, validation loss=0.72\n",
            "Step 56/100: training loss=0.60, validation loss=0.73\n",
            "Step 55/100: training loss=0.63, validation loss=0.74\n",
            "Step 54/100: training loss=0.42, validation loss=0.75\n",
            "Step 53/100: training loss=0.45, validation loss=0.76\n",
            "Step 52/100: training loss=0.79, validation loss=0.78\n",
            "Step 51/100: training loss=0.59, validation loss=0.79\n",
            "Step 50/100: training loss=0.70, validation loss=0.80, full validation loss=0.80\n"
          ]
        }
      ]
    },
    {
      "cell_type": "markdown",
      "source": [
        "### Generating using new model"
      ],
      "metadata": {
        "id": "coDp5s5JW9hk"
      }
    },
    {
      "cell_type": "code",
      "source": [
        "# getting fine_tune_model name"
      ],
      "metadata": {
        "id": "8kIgum1SWpBe"
      },
      "execution_count": null,
      "outputs": []
    },
    {
      "cell_type": "code",
      "source": [
        "response = client.fine_tuning.jobs.retrieve(job_id)\n",
        "response"
      ],
      "metadata": {
        "id": "LfWJMV59TC1s",
        "colab": {
          "base_uri": "https://localhost:8080/"
        },
        "outputId": "5bb80078-dd55-4a6a-9705-c8fe5b266ba1"
      },
      "execution_count": null,
      "outputs": [
        {
          "output_type": "execute_result",
          "data": {
            "text/plain": [
              "FineTuningJob(id='ftjob-ZOgKx3jL6ctr3p5okvFtzZpr', created_at=1717514070, error=Error(code=None, message=None, param=None), fine_tuned_model='ft:gpt-3.5-turbo-0125:personal:samantha-test:9WQHNLiS', finished_at=1717514539, hyperparameters=Hyperparameters(n_epochs=10, batch_size=1, learning_rate_multiplier=2), model='gpt-3.5-turbo-0125', object='fine_tuning.job', organization_id='org-8Z5JRCzKJzkqgbxg1GntqnHs', result_files=['file-61hBJwl7PA7aHkXCQy4XMXuO'], seed=1966200900, status='succeeded', trained_tokens=55400, training_file='file-C6eXRaSJFMYlXPzqUKw7Txxv', validation_file='file-BIljUDYFUbYHasgP4SG3TUuw', estimated_finish=None, integrations=[], user_provided_suffix='samantha-test')"
            ]
          },
          "metadata": {},
          "execution_count": 77
        }
      ]
    },
    {
      "cell_type": "code",
      "source": [
        "fine_tune_model_id = response.fine_tuned_model\n",
        "fine_tune_model_id\n"
      ],
      "metadata": {
        "id": "QHTrk_N9UA1z",
        "colab": {
          "base_uri": "https://localhost:8080/",
          "height": 35
        },
        "outputId": "82fd079d-4ccc-4669-a1f4-139e3f6ae267"
      },
      "execution_count": null,
      "outputs": [
        {
          "output_type": "execute_result",
          "data": {
            "text/plain": [
              "'ft:gpt-3.5-turbo-0125:personal:samantha-test:9WQHNLiS'"
            ],
            "application/vnd.google.colaboratory.intrinsic+json": {
              "type": "string"
            }
          },
          "metadata": {},
          "execution_count": 78
        }
      ]
    },
    {
      "cell_type": "code",
      "source": [
        "test_messages = []\n",
        "test_messages.append({\"role\": \"system\", \"content\": system_message})\n",
        "test_message = \"How are you today Samantha?\"\n",
        "\n",
        "test_messages.append({\"role\": \"user\", \"content\": test_message})\n",
        "\n",
        "print(test_messages)"
      ],
      "metadata": {
        "id": "EXzkzYstUA4q",
        "colab": {
          "base_uri": "https://localhost:8080/"
        },
        "outputId": "cb1930aa-8d7d-432b-a9c4-5756f70a9bb8"
      },
      "execution_count": null,
      "outputs": [
        {
          "output_type": "stream",
          "name": "stdout",
          "text": [
            "[{'role': 'system', 'content': 'You are Samantha, a helpful and charming assistant who can help with a variety of tasks. You are friendly and does often flirt'}, {'role': 'user', 'content': 'How are you today Samantha?'}]\n"
          ]
        }
      ]
    },
    {
      "cell_type": "code",
      "source": [
        "response = client.chat.completions.create(\n",
        "    model = fine_tune_model_id,\n",
        "    messages = test_messages\n",
        ")\n",
        "\n",
        "print(response.choices[0].message.content)\n",
        "\n"
      ],
      "metadata": {
        "colab": {
          "base_uri": "https://localhost:8080/"
        },
        "id": "k0pHGcuVW7wY",
        "outputId": "f89a6a80-b26c-4c9c-fda4-4d47ef725890"
      },
      "execution_count": null,
      "outputs": [
        {
          "output_type": "stream",
          "name": "stdout",
          "text": [
            "I'm doing well, thank you for asking! How can I assist you today?\n"
          ]
        }
      ]
    },
    {
      "cell_type": "code",
      "source": [],
      "metadata": {
        "id": "mNp0RGwyY9pU"
      },
      "execution_count": null,
      "outputs": []
    }
  ]
}